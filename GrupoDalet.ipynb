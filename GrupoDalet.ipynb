{
 "cells": [
  {
   "cell_type": "markdown",
   "id": "d7a04593-6013-4fe0-bb54-ca260150707e",
   "metadata": {},
   "source": [
    "# Grupo Dalet:\n",
    "\n",
    "## Integrantes:\n",
    "\n",
    "- Ávila Hernández, Carlos Roberto [00032420]\n",
    "- Hernández García, Anibal Ernesto [00401117]\n",
    "- Mejía Hércules, Francisco Javier [00079517]\n",
    "- Rodríguez Ponce, Erika Liliana [00106416]\n",
    "\n",
    "### Tema: Curvas paramétricas, curvas de Bézier\n"
   ]
  },
  {
   "cell_type": "markdown",
   "id": "c687e06e-847c-466f-a4fd-56e8e8ae70db",
   "metadata": {},
   "source": [
    "# Curvas Paramétricas"
   ]
  },
  {
   "cell_type": "markdown",
   "id": "fefeb636-2c51-470b-8b6d-091fc605d4da",
   "metadata": {},
   "source": [
    "Las curvas o trayectorias en el plano xy no siempre son la gráfica de una función o de una sola ecuación. A veces, estas curvas o trayectorias se describen con un par de ecuaciones, $x = f(t)$ y $y = g(t)$, donde $f$ y $g$ son funciones continuas. Ecuaciones como éstas describen curvas más generales que las descritas por una sola función, y los valores del parámetro $t$ indican la posición $(x,y) = (f(t), g(t))$ [1]. "
   ]
  },
  {
   "cell_type": "markdown",
   "id": "99476e48-aef4-41a6-9ccd-327230e956e7",
   "metadata": {},
   "source": [
    "## Interpolación de Lagrange\n",
    "\n",
    "Una técnica sencilla para determinar un polinomio o un polinomio por tramos para conectar los puntos $(x_0,y_0)$, ..., $(x_n,y_n)$ en el orden provisto consiste en usar un parámetro $t$ en un intervalo $[t_0,t_n]$, donde $t_0 < t_1 <$ ... $< t_n$ y construir funciones de aproximación con $x_i = x(t_i)$ y $y_i = y(t_i)$, para cada $i = 0,1,...,n$ [2].\n",
    "\n",
    "Recordemos [3] que los polinomios de interpolación de lagrange están dados por:\n",
    "\n",
    "$P(x) = f(x_0)L_{n,0}(x) + ... + f(x_n)L_{n,n}(x) = \\sum_{k=0}^n f(x_k)L_{n,k}(x)$,\n",
    "\n",
    "donde para cada $k = 0,1,...,n,$\n",
    "\n",
    "$L_{n,k} = \\frac{(x-x_0)(x-x_1)...(x-x_{k-1})(x-x_{k+1})...(x-x_n)}{(x_k-x_0)(x_k-x_1)...(x_k-x_{k-1})(x_k-x_{k+1})...(x_-x_n)}  = \\prod\\limits_{\\substack{i=0 \\\\ i\\neq k}}^n \\frac{(x-x_i)}{(x_k-x_i)}$\n",
    "\n",
    "\n",
    "A continuación de aborda un ejemplo con esta técnica en el caso de que ambas funciones, $x(t)$ y $y(t)$ son polinomios de interpolación de Lagrange con los siguientes puntos de interés, para aproximar la siguiente curva:\n",
    "\n",
    "![img](img/eg1.png)\n",
    "\n",
    "| i |  0 | 1  | 2  | 3  | 4 |\n",
    "|:---:|:---:|:---:|:---:|:---:|:---:|\n",
    "| $t_i$  |  0 | 0.25  | 0.5  | 0.75  | 1 |\n",
    "|  $x_i$ | 1  | -1  | 5  | 5  | -3 |\n",
    "|  $y_i$ | 6| -6| 3|-5|-10|\n",
    "\n",
    "(Existe flexibilidad al seleccionar el parámetro y nosotros en este caso elegiremos los puntos ${\\{t_i\\}^4_{i=0}}$) igualmente espaciados en el intervalo $[0,1]$."
   ]
  },
  {
   "cell_type": "markdown",
   "id": "c9a7284b-ca90-4741-b4a7-c0967edec25b",
   "metadata": {},
   "source": [
    "Primero, se importan las librerías necesarias y se definen las variables que se usarán para las operaciones simbólicas:"
   ]
  },
  {
   "cell_type": "code",
   "execution_count": null,
   "id": "60d078a6-1e3b-46c9-8e44-17ac683f863e",
   "metadata": {},
   "outputs": [],
   "source": [
    "import sys\n",
    "!{sys.executable} -m pip install numpy"
   ]
  },
  {
   "cell_type": "code",
   "execution_count": null,
   "id": "16d7dbcb-a4d8-464b-b399-a485b4e46b2e",
   "metadata": {},
   "outputs": [],
   "source": [
    "import sys\n",
    "!{sys.executable} -m pip install matplotlib"
   ]
  },
  {
   "cell_type": "code",
   "execution_count": null,
   "id": "ef341af0-5f71-4b65-801e-b7f1aa72b23e",
   "metadata": {},
   "outputs": [],
   "source": [
    "import sys\n",
    "!{sys.executable} -m pip install sympy"
   ]
  },
  {
   "cell_type": "code",
   "execution_count": 272,
   "id": "5acf8919-ab6a-4541-8837-f74d99de0e6b",
   "metadata": {},
   "outputs": [],
   "source": [
    "import matplotlib.pyplot as plt\n",
    "import numpy as np\n",
    "from sympy import Symbol,Rational,lambdify\n",
    "\n",
    "\n",
    "x = Symbol('x')\n",
    "y = Symbol('y')\n",
    "t = Symbol('t')"
   ]
  },
  {
   "cell_type": "markdown",
   "id": "fd8a9ae6-9bef-47c8-b6eb-89b7103cfaf7",
   "metadata": {},
   "source": [
    "Se define le función que retorna los polinomios base de Lagrange:"
   ]
  },
  {
   "cell_type": "code",
   "execution_count": 273,
   "id": "d12be177-9530-44be-a36e-d84b7ea0eced",
   "metadata": {},
   "outputs": [],
   "source": [
    "def lagrange_l(n, ts, k):\n",
    "    l = 1\n",
    "    for i in range(n + 1):\n",
    "        if i != k:\n",
    "            l *= (t - ts[i]) / (ts[k] - ts[i])\n",
    "    return l"
   ]
  },
  {
   "cell_type": "markdown",
   "id": "28777717-7218-4af9-92cc-66d979192e3f",
   "metadata": {},
   "source": [
    "Se define la función que retorna el polinomio interpolante de Lagrange:"
   ]
  },
  {
   "cell_type": "code",
   "execution_count": 274,
   "id": "0aafb262-122f-453a-833a-591ec427af86",
   "metadata": {},
   "outputs": [],
   "source": [
    "def lagrange_p(n, ts, f):\n",
    "    p = 0\n",
    "    for k in range(n + 1):\n",
    "        p += f[k] * lagrange_l(n, ts, k)\n",
    "    return p"
   ]
  },
  {
   "cell_type": "markdown",
   "id": "7d1aa5ef-ad6d-465a-a069-40dfd0aa65d8",
   "metadata": {},
   "source": [
    "Se definen los arreglos con los valores del parámetro $t$, y los valores nodales de $x$ y $y$:"
   ]
  },
  {
   "cell_type": "code",
   "execution_count": 275,
   "id": "a1a88de1-d068-4237-a226-867419ba1663",
   "metadata": {},
   "outputs": [],
   "source": [
    "xs = [1, -1, 5,5,-3]\n",
    "ys = [6, -6, 3,-5,-10]\n",
    "# Divisiónes equiespaciadas del parámetro t\n",
    "ts = np.linspace(0, 1, len(xs))"
   ]
  },
  {
   "cell_type": "markdown",
   "id": "7992090f-fbc9-4d3d-bbb6-6e06058baf33",
   "metadata": {},
   "source": [
    "Se construyen los polinomios interpolantes:"
   ]
  },
  {
   "cell_type": "code",
   "execution_count": 276,
   "id": "12714b68-d708-41a0-8832-12291ea42bf6",
   "metadata": {},
   "outputs": [],
   "source": [
    "pol_x = lagrange_p(len(ts) - 1, ts, xs)\n",
    "pol_y = lagrange_p(len(ts) - 1, ts, ys)"
   ]
  },
  {
   "cell_type": "markdown",
   "id": "73d5c388-6552-4aba-9a83-64ba5f608d79",
   "metadata": {},
   "source": [
    "En este caso, se obtiene lo siguiente:\n",
    "\n",
    "$x(t) = 128t^4 - \\frac{1024t^3}{3} + 264t^2 - \\frac{164t}{3} + 1$"
   ]
  },
  {
   "cell_type": "markdown",
   "id": "45a5feb7-df26-41ca-884f-5dfef33dee15",
   "metadata": {},
   "source": [
    "$y(t) = \\frac{1856t^4}{3} - \\frac{4000t^3}{3} + \\frac{2692t^2}{3} - \\frac{596t}{3} + 6$"
   ]
  },
  {
   "cell_type": "markdown",
   "id": "9791b671-5950-4732-aefc-1d83a3c68716",
   "metadata": {},
   "source": [
    "Finalmente, se gafica el resultado:"
   ]
  },
  {
   "cell_type": "code",
   "execution_count": 278,
   "id": "4db22495-9724-4787-9c7f-c9d7cf0d1209",
   "metadata": {},
   "outputs": [
    {
     "data": {
      "image/png": "[encoded data removed]",
      "text/plain": [
       "<Figure size 576x396 with 1 Axes>"
      ]
     },
     "metadata": {},
     "output_type": "display_data"
    }
   ],
   "source": [
    "def show_lagrange(pol_x, pol_y):\n",
    "    pol_x = lambdify(t, pol_x)\n",
    "    pol_y = lambdify(t, pol_y)\n",
    "\n",
    "    plt.figure(1)\n",
    "\n",
    "    dom_graph = ts\n",
    "    dom = np.arange(min(dom_graph), max(dom_graph), 10 ** -3)\n",
    "    plt.style.use(\"seaborn\")\n",
    "\n",
    "    x_poly = [pol_x(t) for t in dom]\n",
    "    y_poly = [pol_y(t) for t in dom]\n",
    "    plt.plot(x_poly, y_poly, label=\"(x(t), y(t))\", color=\"orange\")\n",
    "    plt.scatter(xs, ys, label='(Xi, Yi)', color=\"blue\")\n",
    "    plt.legend()\n",
    "    plt.grid(True)\n",
    "    plt.show()\n",
    "\n",
    "show_lagrange(pol_x, pol_y)"
   ]
  },
  {
   "cell_type": "markdown",
   "id": "11144205-d037-48fa-bd21-d131e4358d31",
   "metadata": {},
   "source": [
    "---\n",
    "\n",
    "\n",
    "La misma técnica puede ser implementada en tres dimensiones. Por ejemplo, se desea aproximar esta curva:\n",
    "\n",
    "![img](img/eg3d1.png)\n",
    "\n",
    "\n",
    "La cual tiene los siguiente puntos de interés:\n",
    "\n",
    "\n",
    "| i |  0 | 1  | 2  | 3  |\n",
    "|:---:|:---:|:---:|:---:|:---:|\n",
    "| $t_i$  | 0| 1/3 | 2/3 | 1 | \n",
    "| $x_i$  | -4| 2| -3| 4 | \n",
    "|  $y_i$ | 0|-2|4|4 | \n",
    "|  $z_i$ | 1| -2| 2| 0 | "
   ]
  },
  {
   "cell_type": "markdown",
   "id": "be7a5728-b59d-4a03-97fe-08ae043240d5",
   "metadata": {},
   "source": [
    "Se defines los arreglos nodales:"
   ]
  },
  {
   "cell_type": "code",
   "execution_count": 266,
   "id": "8d17b2a1-f164-4d95-ad20-cdd7d69de8a2",
   "metadata": {},
   "outputs": [],
   "source": [
    "xs = [-4,2,-3,4]\n",
    "ys = [0,-2,4,4]\n",
    "zs = [1, -2, 2, 0]\n",
    "# Divisiónes equiespaciadas del parámetro t\n",
    "ts = np.linspace(0, 1, len(xs))"
   ]
  },
  {
   "cell_type": "markdown",
   "id": "616727db-3965-4e94-aa52-ddd84c46161f",
   "metadata": {},
   "source": [
    "Se construyen los polinomios interpolantes:"
   ]
  },
  {
   "cell_type": "code",
   "execution_count": 268,
   "id": "a2503f0d-bfdc-42d7-b134-45126e94e189",
   "metadata": {},
   "outputs": [],
   "source": [
    "pol_x = lagrange_p(len(ts) - 1, ts, xs)\n",
    "pol_y = lagrange_p(len(ts) - 1, ts, ys)\n",
    "pol_z = lagrange_p(len(ts) - 1, ts, zs)"
   ]
  },
  {
   "cell_type": "markdown",
   "id": "cdd2c098-637e-44f1-b8e0-9fac3617a53d",
   "metadata": {},
   "source": [
    "En este caso, se obtienen los siguientes polinomios:"
   ]
  },
  {
   "cell_type": "markdown",
   "id": "4bd303f1-cfac-4a99-a2c8-d2df57fa8005",
   "metadata": {},
   "source": [
    "$x(t) = 103.5t^3 - 153t^2 + 57.5t - 4$\n",
    "\n",
    "\n",
    "$y(t) = -63t^3 + 99t^2 - 32t$\n",
    "\n",
    "\n",
    "$z(t) = -58.5t^3 + 90t^2 - 32.5t + 1$"
   ]
  },
  {
   "cell_type": "markdown",
   "id": "87465601-b448-4dcc-bd49-81c00aa8f531",
   "metadata": {},
   "source": [
    "Se muestra la gráfica:"
   ]
  },
  {
   "cell_type": "code",
   "execution_count": 269,
   "id": "103dae2f-0c35-4261-ba7c-7811d8427e86",
   "metadata": {},
   "outputs": [
    {
     "data": {
      "image/png": "[encoded data removed]",
      "text/plain": [
       "<Figure size 576x396 with 1 Axes>"
      ]
     },
     "metadata": {},
     "output_type": "display_data"
    }
   ],
   "source": [
    "pol_x = lambdify(t, pol_x)\n",
    "pol_y = lambdify(t, pol_y)\n",
    "pol_z = lambdify(t, pol_z)\n",
    "\n",
    "dom_graph = ts\n",
    "dom = np.arange(min(dom_graph), max(dom_graph), 10 ** -3)\n",
    "\n",
    "x_poly = [pol_x(t) for t in dom]\n",
    "y_poly = [pol_y(t) for t in dom]\n",
    "z_poly = [pol_z(t) for t in dom]\n",
    "\n",
    "ax = plt.figure().add_subplot(projection='3d')\n",
    "ax.plot(x_poly, y_poly, z_poly, label='(x(t), y(t), z(t))', color=\"orange\")\n",
    "ax.scatter(xs, ys, zs,  label='(Xi, Yi, Zi)', color=\"blue\")\n",
    "ax.legend()\n",
    "\n",
    "plt.show()"
   ]
  },
  {
   "cell_type": "markdown",
   "id": "f54baf90-6790-47b9-86b7-25f842e245f2",
   "metadata": {},
   "source": [
    "### Desventajas de su uso\n",
    "\n",
    "Un sistema de diseño computacional exitoso necesita estar basado en una teoría matemática formal, de tal manera que los resultados sean predecibles, pero esta teoría debería realizarse en segundo plano para que el artista pueda basar el diseño en la estética. \n",
    "\n",
    "En general, la interpolación de Lagrange es poco óptima si se usa con una gran cantidad de nodos, ya que si se aumenta el número de puntos a interpolar, también lo hace el grado del polinomio interpolador (y en este caso son dos) por norma general. De este modo, aumenta la dificultad del cálculo, y lo hace muy poco operatico manualmente. \n",
    "\n",
    "A pesar de que la tecnología actual permite manejar polinomios de grados superiores sin problemas, lo hace a costa de un elevado consumo de tiempo de computación. A medida crece el grado, mayores son las oscilaciones entre puntos consecutivos o nodos.\n",
    "\n",
    "Las aplicaciones de gráficas computacionales requieren la generación rápida de curvas suaves que se pueden modificar de manera fácil y rápida. Por razones tanto estéticas como computacionales, cambiar una parte de estas curvas debería tener un efecto pequeño o ningún efecto en otras partes de las curvas. Esto elimina el uso de polinomios de interpolación ya que cambiar una parte de la curva la afecta en su totalidad. \n",
    "\n",
    "A continuación se muestra un ejemplo de ello. \n",
    "\n",
    "Supongamos que se desea interpolar la siguiente gráfica mediante polinomios ya sea de Lagrange, Newton o de Hermite: \n",
    "\n",
    "![img](img/eg.png)"
   ]
  },
  {
   "cell_type": "markdown",
   "id": "cd060cab-3be2-4784-a7e9-fff7b5656bdc",
   "metadata": {},
   "source": [
    "Para la cual se extraen los siguientes datos nodales:\n",
    "\n",
    "| i   |  0  | 1   | 2   | 3   | 4   |5    |6    |7    |8    |9    |10   |\n",
    "|:---:|:---:|:---:|:---:|:---:|:---:|:---:|:---:|:---:|:---:|:---:|:---:|\n",
    "|$t_i$|  0  |-3   |-4   |-3   |-2   |0    |2    |3    |4    |3    |0    |\n",
    "|$y_i$| -40 |-30  |-4   | 3   |-2   |0    |-2   |3    |-4   |-30  |-40  |"
   ]
  },
  {
   "cell_type": "markdown",
   "id": "cc8d33e0-d4a3-4b13-8412-05ff73be103a",
   "metadata": {},
   "source": [
    "Definimos los arreglos con los datos:"
   ]
  },
  {
   "cell_type": "code",
   "execution_count": 279,
   "id": "38bef0c6-a562-42af-b13a-cc82205f4ddc",
   "metadata": {},
   "outputs": [],
   "source": [
    "xs = [0,-3,-4,-3,-2,0,2,3,4,3,0]\n",
    "ys = [-40,-30,-4,3,-2,0,-2,3,-4,-30,-40]\n",
    "\n",
    "# Divisiónes equiespaciadas del parámetro t\n",
    "ts = np.linspace(0, 1, len(xs))"
   ]
  },
  {
   "cell_type": "markdown",
   "id": "a7e9b201-902d-41d8-a6df-051551725292",
   "metadata": {},
   "source": [
    "Se construyen los polinomios interpolantes:"
   ]
  },
  {
   "cell_type": "code",
   "execution_count": 280,
   "id": "6a48e902-0f40-42bb-b47b-4015b80ad072",
   "metadata": {},
   "outputs": [],
   "source": [
    "pol_x = lagrange_p(len(ts) - 1, ts, xs)\n",
    "pol_y = lagrange_p(len(ts) - 1, ts, ys)"
   ]
  },
  {
   "cell_type": "markdown",
   "id": "5f1252fd-c182-4e65-a2a4-288689531bd4",
   "metadata": {},
   "source": [
    "Para empezar, se obtienen unos polinomios exageradamente extensos: \n"
   ]
  },
  {
   "cell_type": "markdown",
   "id": "532a356e-6c94-4c09-9813-d4ef7675fa61",
   "metadata": {},
   "source": [
    "$x(t) = -1.04773789644241^{-9}t^{10} + 66137.5661375716t^9 - 297619.047619061t^8 + 561507.936507948t^7 - 576388.888888896t^6 + 349166.666666672t^5 - 126388.88888889t^4 + 26190.2116402118t^3 - 2678.17460317461t^2 + 72.6190476190482t$\n"
   ]
  },
  {
   "cell_type": "markdown",
   "id": "5c52c59d-ed8f-4113-8e34-04f74aeec193",
   "metadata": {},
   "source": [
    "$y(t) = -3858024.69135802t^{10} + 19290123.4567901t^9 - 41263227.5132275t^8 + 49312169.3121693t^7 - 36046990.7407407t^6 + 16566898.1481481t^5 - 4726503.08641975t^4 + 792126.543209877t^3 - 69038.9682539683t^2 + 2467.53968253968t - 40.0$"
   ]
  },
  {
   "cell_type": "code",
   "execution_count": 281,
   "id": "a48782ab-ff34-4f7a-985d-98d84251375b",
   "metadata": {},
   "outputs": [
    {
     "data": {
      "image/png": "[encoded data removed]",
      "text/plain": [
       "<Figure size 576x396 with 1 Axes>"
      ]
     },
     "metadata": {},
     "output_type": "display_data"
    }
   ],
   "source": [
    "show_lagrange(pol_x, pol_y)"
   ]
  },
  {
   "cell_type": "markdown",
   "id": "93a50e77-bd7d-4919-8a20-177af3801854",
   "metadata": {},
   "source": [
    "Y al graficarlo, podemos notar que no se asemeja a la curva original que se deseaba aproximar, debido a las grandes oscilaciones producidas por el alto grado polinomial. "
   ]
  },
  {
   "cell_type": "markdown",
   "id": "7f336157-0299-41e2-b2c8-1f0a70630c12",
   "metadata": {},
   "source": [
    "# Cúbicos de Hermite"
   ]
  },
  {
   "cell_type": "markdown",
   "id": "fadacdd2-2212-4fdb-aabd-1bcd06bcfb20",
   "metadata": {},
   "source": [
    "Si $f \\in C^1[a,b]$ y $x_o,...,x_n \\in [a,b]$ son distintos, el único polinomio de menor grado que concuerda con $f$ y $f'$ en $x_0,...,x_n$ es el polinomio de Hermite de grado a lo sumo $2n + 1$ dado por\n",
    "\n",
    "$H_{2n+1}(x) = \\sum_{j=0}^n f(x_j)H_{n,j} + \\sum_{j=0}^n f'(x_j)\\hat{H}_{n,j} (x)$,\n",
    "\n",
    "Donde cada $L_{n,f}(x)$ denota el $j-$ésimo coeficiente del polinomio de Lagrange de grado $n$, y \n",
    "\n",
    "$H_{n,j}(x) = [1-2x(x-x_i)L_{n,j}'(x_j)]L_{n,j}^2(x)$ y $\\hat{H}_{n,j}(x) = (x-x_i)L_{n,j}^2(x)$. [4]\n",
    "\n",
    "La selección de la curva para usarla en gráficas computacionales es, en general, una forma de polinomio Hermite cúbico por tramos. Cada parte de un polinomio de Hermite cúbico de completa totalmente al especificar sus extremos y las derivadas en estos extremos. Gracias a esto, una parte de la curva se puede cambiar, mientras la otra parte de la curva se mantiene igual. ünicamente se deben modificar las partes adyacentes para garantizar la suavidad en lso extremos. Estos cálculo se pueden realizar rápidamente y es posible cambiar una sección de la curva a la vez. [2]\n",
    "\n",
    "Sin embargo, la necesidad de especificar las derivadas en los extremos de cada sección de la curva representa un problema. Si suponemos que la curva tiene $n+1$ puntos de la forma $(x(t_0), y(t_0), ..., x(t_n), y(t_n))$ y se desea parametrizar el cúbico para permitir características complejas. Entonces, se debería especificar $x'(t_i)$ y $y'(t_i)$, para cada $i =0,1,...,n$. La ventaja es que cada parte se genera de manera independiente, y se debe garantizar que las derivadas en los extremos de cada parte coincidan. Entonces, se podría simplificar el proceso en uno que determine algunos polinomios de Hermite cúbicos en el parámetro $t$, donde $t_0 = 0$ y $t_1 = 1$, los datos nodales del extremo $(x(0),y(0))$ y $(x(1),y(1))$ y sus derivadas $\\frac{dy}{dx}$ en $(t=0)$ $\\frac{dy}{dx}$ en $(t=1)$. [2]\n",
    "\n",
    "Los polinomios cúbicos en $x(t)$ y $y(t)$, cada uno tiene cuatro parámetros, lo cual proporciona flexibilidad al seleccionar el par cúbico de polinomios de Hermite para satisfacer las condiciones ya que la forma natural para determinar $x(t)$ y $y(t)$ requiere que se especifique $x'(0)$, $x'(1)$, $y'(0)$, y $y'(1)$. La curva de Hermite explícita en $x$ y $y$ requiere expresar solamente los cocientes: \n",
    "\n",
    "$\\frac{dy}{dx}(t = 0)=\\frac{y'(0)}{x'(0)}$ y $\\frac{dy}{dx}(t = 1)=\\frac{y'(1)}{x'(1)}$. [2]\n",
    "\n",
    "Si se multiplican $x'(0)$ y $y'(0)$ por un factor de escala común, la recta tangente para la curva en $(x(0), y(0))$ permanece igual, pero la forma de la curva varía. Mientras más grande sea el factor de escala, la curva de aproximación se asemeja más a la recta tangente en las cercanías de $(x(0), y(0))$. La misma situación se presenta para el otro extremo $(x(1), y(1))$. [2]\n",
    "\n",
    "Para simplificar más el proceso en las gráficas computacionales interactivas, la derivada en los puntos extremos se especifican mediante otros puntos, llamados puntos guía. Mientras más lejos estén estos nodos, más cerca se aproxima la curva a la recta tangente cerca del nodo.\n",
    "\n",
    "A continuación, los nodos se presentan en $(x_0, y_0), (x_1, y_1)$, el punto guía para $(x_0, y_0)$ es  $(x_0+ \\alpha_0, y_0+\\beta_0)$ y el punto guía para $(x_1, y_1)$ es  $(x_1- \\alpha_1, y_1-\\beta_1)$:\n",
    "\n",
    "![img](img/h1.png)\n",
    "\n",
    "\n",
    "Ahora, se debe encontrar un polinomio de Hermite cúbico $x(t)$ en $[0,1]$ que satisfaga\n",
    "\n",
    "$x(0) = x_0$, $x(1) = x_1$, $x'(0) = \\alpha_0$, y $x'(1) = \\alpha_1$.\n",
    "\n",
    "Sustituyendo, el único polinomio cúbico que satisface estas condiciones es\n",
    "\n",
    "$x(t) = [2(x_0-x_1)+(\\alpha_0+\\alpha_1)]t^3 + [3(x_1-x_0) - (\\alpha_1+2\\alpha_0)]t^2 + \\alpha_0t + x_0$.[2]\n",
    "\n",
    "De igual manera, el único polinomio cúbico que satisface\n",
    "\n",
    "$y(0) = y_0$, $y(1) = y_1$, $y'(0) = \\beta_0$, y $y'(1) = \\beta_1$.\n",
    "\n",
    "es\n",
    "\n",
    "$y(t) = [2(y_0-y_1)+(\\beta_0+\\beta_1)]t^3 + [3(y_1-y_0) - (\\beta_1+2\\beta_0)]t^2 + \\beta_0t + y_0$.[2]\n",
    "\n",
    "A continuación se presenta un ejemplo con punto inicial en $(0,0)$, punto final en $(1,0)$ y puntos guía en $(0.5,0.5)$ y $(2,-1)$, respectivamente."
   ]
  },
  {
   "cell_type": "markdown",
   "id": "df31bbae-0a1e-4f57-8bac-4871dd2dd022",
   "metadata": {},
   "source": [
    "Primero, se definen los puntos: "
   ]
  },
  {
   "cell_type": "code",
   "execution_count": 303,
   "id": "cbc3f106-c711-4022-908e-bf6ac407e58a",
   "metadata": {},
   "outputs": [],
   "source": [
    "# Punto inicial\n",
    "p_0 = (0,0)\n",
    "# Punto guía\n",
    "pg_0 = (0.5,0.5)\n",
    "\n",
    "\n",
    "# Punto final\n",
    "p_1 = (1,0)\n",
    "# Punto guía\n",
    "pg_1 = (2,-1)"
   ]
  },
  {
   "cell_type": "markdown",
   "id": "f855b020-9b6f-404d-83d0-eb3b4a78a315",
   "metadata": {},
   "source": [
    "Se define la función que retorna el polinomio de Hermite cúbico:"
   ]
  },
  {
   "cell_type": "code",
   "execution_count": 304,
   "id": "e2e65dee-5f07-446c-be60-300a3fbc6d44",
   "metadata": {},
   "outputs": [],
   "source": [
    "def hermite_cubico(p0, pg0, p1, pg1):\n",
    "    # Diferencias\n",
    "    a_0 = pg0 - p0\n",
    "    a_1 = p1 - pg1\n",
    "    return (2*(p0 - p1) + (a_0 + a_1))*t**3 + (3*(p1 - p0) - (a_1 + 2*a_0))*t**2 + (a_0)*t + (p0)"
   ]
  },
  {
   "cell_type": "code",
   "execution_count": 310,
   "id": "e516f9f7-6259-4269-b52f-bc28069e5688",
   "metadata": {},
   "outputs": [],
   "source": [
    "pol_x = hermite_cubico(p_0[0],pg_0[0] ,p_1[0], pg_1[0])\n",
    "pol_y = hermite_cubico(p_0[1],pg_0[1], p_1[1], pg_1[1])"
   ]
  },
  {
   "cell_type": "markdown",
   "id": "fc7f61e3-d23c-4f8e-85d6-eebf43af74eb",
   "metadata": {},
   "source": [
    "Se obtienen los siguientes polinomios:\n",
    "\n",
    "$x(t) = -\\frac{5}{2}t^3 + 3t^22 + \\frac{1}{2}t$\n",
    "\n",
    "\n",
    "$y(t) = \\frac{3}{2}t^3 - 2t^22 + \\frac{1}{2}t$"
   ]
  },
  {
   "cell_type": "markdown",
   "id": "0aefb90e-22eb-4261-beac-306ada7674c8",
   "metadata": {},
   "source": [
    "Se grafica la curva, los puntos, y las rectas guía:"
   ]
  },
  {
   "cell_type": "code",
   "execution_count": 306,
   "id": "217b1344-2946-4167-951b-59e58d08ad15",
   "metadata": {},
   "outputs": [],
   "source": [
    "def show_hermite(p_0, pg_0, p_1, pg_1, pol_x, pol_y):\n",
    "\n",
    "    pol_x = lambdify(t, pol_x)\n",
    "    pol_y = lambdify(t, pol_y)\n",
    "\n",
    "    plt.figure(1)\n",
    "\n",
    "    dom = np.arange(0, 1, 10 ** -3)\n",
    "    plt.style.use(\"seaborn\")\n",
    "\n",
    "    plt.plot([p_0[0], pg_0[0]],[p_0[1], pg_0[1]], color=\"black\", linestyle=\"dashed\")\n",
    "    plt.plot([p_1[0], pg_1[0]],[p_1[1], pg_1[1]], color=\"black\", linestyle=\"dashed\")\n",
    "\n",
    "\n",
    "    l_1_min_point = p_0 if p_0[0] < pg_0[0] else pg_0\n",
    "    l_1_max_point = pg_0 if pg_0[0] > p_0[0] else p_0\n",
    "    \n",
    "    xs = [pg_0[0], pg_1[0]]\n",
    "    ys = [pg_0[1], pg_1[1]]\n",
    "    plt.scatter(xs, ys, label='Puntos guía', color=\"black\")\n",
    "\n",
    "    xi = [p_0[0], p_1[0]]\n",
    "    yi = [p_0[1], p_1[1]]\n",
    "    plt.scatter(xi, yi, label='(Xi, Yi)', color=\"blue\")\n",
    "    \n",
    "    x_poly = [pol_x(t) for t in dom]\n",
    "    y_poly = [pol_y(t) for t in dom]\n",
    "    plt.plot(x_poly, y_poly, label=\"(x(t), y(t))\", color=\"orange\")\n",
    "\n",
    "    plt.legend()\n",
    "    plt.grid(True)\n",
    "    plt.show()"
   ]
  },
  {
   "cell_type": "code",
   "execution_count": 307,
   "id": "3c2be738-cb0f-4890-b8de-973e3da59cbe",
   "metadata": {},
   "outputs": [
    {
     "data": {
      "image/png": "[encoded data removed]",
      "text/plain": [
       "<Figure size 576x396 with 1 Axes>"
      ]
     },
     "metadata": {},
     "output_type": "display_data"
    }
   ],
   "source": [
    "show_hermite(p_0, pg_0, p_1, pg_1, pol_x, pol_y)"
   ]
  },
  {
   "cell_type": "markdown",
   "id": "df7abdd3-391c-4db6-9f4b-ac7e72cdc0e2",
   "metadata": {},
   "source": [
    "En [2] se afirma que los programas de gráficos populares usan este tipo de sistema para sus representaciones gráficas a mano alzada en una forma ligeramente modificada. Los cúbicos de Hermite se describen como **polinomios de Bézier**, los cuales incluyen un factor de escala de tres al calcular las derivadas en los extremos. Eso modifica las ecuaciones paramétricas para \n",
    "\n",
    "$x(t) = [2(x_0-x_1)+3(\\alpha_0+\\alpha_1)]t^3 + [3(x_1-x_0) - 3(\\alpha_1+2\\alpha_0)]t^2 + 3\\alpha_0t + x_0$.[2]\n",
    "\n",
    "$y(t) = [2(y_0-y_1)+3(\\beta_0+\\beta_1)]t^3 + [3(y_1-y_0) - 3(\\beta_1+2\\beta_0)]t^2 + 3\\beta_0t + y_0$.[2]\n",
    "\n",
    "Para $0 \\leq t \\leq 1$, lo cual hace que la curva se asemeje más a las rectas tangentes en los extremos."
   ]
  },
  {
   "cell_type": "code",
   "execution_count": 257,
   "id": "4c3f7a67-4295-4e97-8de8-605ba87a37fa",
   "metadata": {},
   "outputs": [],
   "source": [
    "def hermite_cubico_mod(p0, pg0, p1, pg1):\n",
    "    # Diferencias\n",
    "    a_0 = pg0 - p0\n",
    "    a_1 = p1 - pg1\n",
    "    return (2*(p0 - p1) + 3*(a_0 + a_1))*t**3 + (3*(p1 - p0) - 3*(a_1 + 2*a_0))*t**2 + (3*a_0)*t + (p0)"
   ]
  },
  {
   "cell_type": "code",
   "execution_count": 258,
   "id": "b2bd2a47-8568-45c2-bd10-f7a3e3a57883",
   "metadata": {},
   "outputs": [],
   "source": [
    "pol_x = hermite_cubico_mod(p_0[0],pg_0[0] ,p_1[0], pg_1[0])\n",
    "pol_y = hermite_cubico_mod(p_0[1],pg_0[1], p_1[1], pg_1[1])"
   ]
  },
  {
   "cell_type": "code",
   "execution_count": 259,
   "id": "783959fb-b756-47fd-a527-cc0e3f0ac3e7",
   "metadata": {},
   "outputs": [
    {
     "data": {
      "image/png": "[encoded data removed]",
      "text/plain": [
       "<Figure size 576x396 with 1 Axes>"
      ]
     },
     "metadata": {},
     "output_type": "display_data"
    }
   ],
   "source": [
    "show_hermite(p_0, pg_0, p_1, pg_1, pol_x, pol_y)"
   ]
  },
  {
   "cell_type": "markdown",
   "id": "a04b89d4-16e7-408f-bb69-693da738fe73",
   "metadata": {},
   "source": [
    "# Curva de Bézier"
   ]
  },
  {
   "cell_type": "markdown",
   "id": "dcfa9ffe-c3f5-4802-a785-38120ca81b44",
   "metadata": {},
   "source": [
    "Las curvas Bézier constan de al menos dos puntos Bézier y el segmento de curva que conecta los dos puntos. Una curva Bézier puede tener una sola sección o varias.\n",
    "Cada punto Bézier puede tener uno o dos puntos de control. La distancia y la dirección entre estos puntos de control determinan la forma de la curva. Cuando hay dos puntos de control, uno está en la línea (punto de control en línea) y el otro es periférico con una línea que lo conecta al punto de control en línea (punto de control periférico).\n",
    "Para dos puntos por el método recursivo \"Algoritmo de De Casteljau\", la curva es un segmento recto, definido en forma paramétrica por interpolación de los puntos extremos: $P= (u-1)P_0+uP_1$ donde $P_i$ son los puntos de control y $u\\in\\left[0,1\\right]$ el parametro.\n",
    "Se llama orden de una curva de Bézier a la cantidad de puntos de control. Para dos puntos de control, la curva es de segundo orden y de primer grado, por cada punto de control que se agrega, se agrega un paso de interpolación, en donde los terminos de $u$ quedan multiplicados por $u$ o $\\left(1-u\\right)$ y por tanto se aumenta en uno el grado del polinomio.\n",
    "$$\\left(o=n+1\\right) , \\left(orden=grado+1\\right)$$\n"
   ]
  },
  {
   "cell_type": "markdown",
   "id": "3e42fea6-3fa5-46ca-9d2d-1fade40ee158",
   "metadata": {},
   "source": [
    "#### SUBDIVISIÓN"
   ]
  },
  {
   "cell_type": "markdown",
   "id": "1e71b48d-7d57-4fc4-86e8-b1b3b2cdf03d",
   "metadata": {},
   "source": [
    "La secuencia de puntos $P_0^i(u^*)$, para un dado $u^*\\in\\left(0,1\\right)$ fijo, sirve como polígono de control para el tramo de la curva entre $0$ y $u^*$. Es decir que cualquier punto de la curva sirve para dividirla en dos curvas Bézier, definiendo los puntos de control intermedios por medio de los puntos calculados en el algoritmo de De Casteljau.\n",
    "Para demostrar que cada tramo coincide con la curva original, en el caso general se pueden demostrar fácilmente. Para el caso de las curvas hasta de tercer grado se ve directamente en el dibujo, ya que los extremos y las derivadas definen la curva."
   ]
  },
  {
   "cell_type": "markdown",
   "id": "4eb4ce04-db74-4afb-aea2-c879d75ab969",
   "metadata": {},
   "source": [
    "#### CONVERGENCIA CON LA SUBDIVISIÓN"
   ]
  },
  {
   "cell_type": "markdown",
   "id": "600a408c-f019-4e88-ad2b-6a340a05cf34",
   "metadata": {},
   "source": [
    "El polígono de Bézier de un segmento corto de una curva, es una buena aproximación a este segmento. Sean $b_0,...,b_n$ los puntos de Bézier de una curva $b(u)$ sobre un subintervalo $\\left[c,c+nh\\right]$ del intervalo $\\left[a,b\\right]$ y sean $c_i=c+ih$ para $i=0,...,n$. Entonces: Existe una constante $M$ que no depende de $c$ tal que: $max||b\\left(c_i\\right)-b_i|| \\leq Mh^2$. Demostración: Expandimos el polinomio simétrico $b\\left[u_1...u_n\\right]$ alrededor de $\\left[c_i...c_i\\right]$ y evaluando en $\\left[u_1...u_n\\right]=\\left[c^\\left(n-i\\right)...c*c+nh^i...c+nh\\right]$ obtenemos: $$b_i=b\\left[c^\\left(n-i\\right)...c*c+nh^i...c+nh\\right]$$\n",
    "$$=b\\left[c_i...c_i\\right]-\\sum_{j=1}^{n-1}ih\\frac{\\partial}{\\partial u_j}b\\left[c_i...c_i\\right]+\\sum_{j=n-i+1}^{n}\\left(n-i\\right)h\\frac{\\partial}{\\partial u_j}b\\left[c_i...c_i\\right]+\\mathcal{O}\\left(h^2\\right)$$\n",
    "Lo cual demuestra la afirmación que todas las derivadas parciales son iguales.\n",
    "La convergencia cuadrática no puede ser mejorada, que se puede verificar para la parábola $p\\left(u\\right)=u^2$, cuyo punto de Bézier intermedio sobre $\\left[0,2h\\right]$ es cero y $p\\left(h\\right)=h^2$.\n"
   ]
  },
  {
   "cell_type": "markdown",
   "id": "79ab8b36-b803-4dd6-98f0-81d88e486e8a",
   "metadata": {},
   "source": [
    "### Polinomio de Bernstein"
   ]
  },
  {
   "cell_type": "markdown",
   "id": "da5c4d92-9198-4df6-bbac-82447b9a2e17",
   "metadata": {},
   "source": [
    "Binomio de Newton: \n",
    "\n",
    "$$ (a+b)^n = \\sum_{i=0}^{n}{n \\choose i}a^ib^{n-i} $$\n",
    "\n",
    "Calculo de la expasion binomial, tomando $a = t, b = 1 - t$: \n",
    "\n",
    "$$ 1 = (t + (1 - t))^n = \\sum_{i=0}^{n}{n \\choose i}t^i(1-t)^{n-1} $$\n",
    "\n",
    "nos permite introducir los polinomios de Bernstein de grado n:  \n",
    "\n",
    "$$ B^n_i := {n \\choose i}t^i(1-t)^{n-1} $$"
   ]
  },
  {
   "cell_type": "markdown",
   "id": "be9e614c-1be3-4141-b77d-70cef75ff59e",
   "metadata": {},
   "source": [
    "### Formulas\n",
    "\n",
    "Las curvas de Bezier utilizan como base los polinomios de Bernstein\n",
    "\n",
    "#### Fórmula lineal\n",
    "\n",
    "$$ b(t) = P_0+(P_1-P_0)t $$\n",
    "\n",
    "$$ b(t) = (1-t)P_0+tP1 $$\n",
    "\n",
    "$$ t \\in [0,1]  $$\n",
    "\n",
    "#### Fórmula cuadratica\n",
    "\n",
    "$$ b(t) = (1-t)^2P_0+2t(1-t)P_1+t^2P_2 $$\n",
    "\n",
    "$$ t \\in [0,1]  $$\n",
    "\n",
    "#### Fórmula cúbica\n",
    "\n",
    "La curva comienza de $P_0$ a $P_1$ y de $P_2$ a $P_3$. La distancia entre $P_0$ y $P_1$ determina la distancia que  recorre la curva en la dirección de $P_2$ antes de girar a $P_3$\n",
    "\n",
    "$$ b(t) = P_0(1-t)^3 + 3P_1t(1-t)^2+3P_2t^2(1-t)+P_3t^3 $$\n",
    "\n",
    "$$ t \\in [0,1]  $$\n",
    "\n",
    "#### Fórmula de n-ésima potencia\n",
    "\n",
    "Curvas polinomicas de grado n:\n",
    "\n",
    "$$ b(t) = \\sum_{i=0}^{n} {n \\choose i} P_i(1-t)^{n-1}t^i $$\n",
    "\n",
    "$$ b(t) = \\sum_{i=0}^{n} P_iB^n_i(t) $$\n",
    "\n",
    "Siendo:\n",
    "\n",
    "- $P_i$ : Puntos que conforman el polígono de control\n",
    "- $B^n_i(t)$ : Polinomio de Bernstein de grado n\n",
    "- $n$ : el grado de la curva\n",
    "- $t$ : parametro de 0 a 1\n",
    "\n",
    "\n",
    "Estas son las ecuaciones vectoriales. En otras palabras, podemos poner x e y en lugar de P para obtener las coordenadas correspondientes.\n",
    "\n",
    "Por ejemplo, la curva de 3 puntos está formada por puntos (x, y) calculados como:\n",
    "\n",
    "$ b_x(t) = (1-t)^2x_1 + 2t(1-t)x_2 + t^3x_3 $\n",
    "\n",
    "$ b_y(t) = (1-t)^2y_1 + 2t(1-t)y_2 + t^3y_3 $\n"
   ]
  },
  {
   "cell_type": "markdown",
   "id": "72572fc7-9a15-4576-b81f-eba8fa2e8e7d",
   "metadata": {},
   "source": [
    "### Algoritmo de Casteljau\n",
    "\n",
    "Una curva $b(t) =  \\sum_{i=0}^{n} P_iB^n_i(t)$ se puede evaluar usando el algoritmo de de Casteljau. Esto usualmente se hace para $ t \\in [0,1] $. El proceso es como sigue: usando las relaciones de recurrencia para los polinomios de Bernstein y agrupando terminos repetidamente se obtiene:\n",
    "\n",
    "$$ b(t) =  \\sum_{i=0}^{n} P_iB^n_i(t) = \\sum_{i=0}^{n-1} P_iB^{n-1}_i(t) = ... = \\sum_{i=0}^{0} P_i^nB^0_i(t) = P^n_0 $$\n",
    "\n",
    "Donde:\n",
    "\n",
    "$$ P^{k+1}_i = (1-t)P^k_i+tP^k_{i+1}$$\n",
    "\n",
    "Si esta en [0,1] entonces la construccion de Casteljau involucra solamente combinaciones convexas, lo que da estabilidad numerica al algoritmo.\n",
    "\n",
    "Se puede utilizar el **método de Horner** que es un algoritmo óptimo. Este método tambien puede evaluar la curva $b(t) = \\sum_{i=0}^{n} P_iB^n_i(t)$. Despues de expresar $b(t)$ como:\n",
    "\n",
    "$$ b(t) = (1-t)^n \\left( \\sum_{i=0}^nP_i{n \\choose i}\\left (\\frac{t}{1-t} \\right)^i \\right) $$\n",
    "\n",
    "Sin embargo esta tecnica falla cuando t está cerca de 1. Por lo que se ocupa la expresión: \n",
    "\n",
    "$$ b(t) = (t)^n \\left( \\sum_{i=0}^nP_{n-1} {n \\choose i} \\left(\\frac{1-t}{t}\\right)^i \\right) $$"
   ]
  },
  {
   "cell_type": "markdown",
   "id": "4ae7012d-b947-4557-b3eb-95bbfbab5092",
   "metadata": {},
   "source": [
    "# Ejemplo practico de CURVAS DE BEZIER"
   ]
  },
  {
   "cell_type": "markdown",
   "id": "d905d98f-20c4-4901-ba6b-e29052b01fd4",
   "metadata": {},
   "source": [
    "Para nuestro ejemplo sera necesario descargar pillow, con esta libreria podremos generar una imagen y mostrar el resultado de una manera grafica"
   ]
  },
  {
   "cell_type": "code",
   "execution_count": 2,
   "id": "37d262b0-0645-44f9-bcb2-91da1c674aec",
   "metadata": {},
   "outputs": [
    {
     "name": "stdout",
     "output_type": "stream",
     "text": [
      "Requirement already satisfied: pillow in c:\\users\\carlo\\appdata\\local\\programs\\python\\python39\\lib\\site-packages (8.2.0)\n"
     ]
    }
   ],
   "source": [
    "import sys\n",
    "!{sys.executable} -m pip install pillow"
   ]
  },
  {
   "cell_type": "markdown",
   "id": "141e3818-7e83-4b71-8d25-49b088919072",
   "metadata": {},
   "source": [
    "Importacion de Math para la aplicacion de sus metodos"
   ]
  },
  {
   "cell_type": "code",
   "execution_count": 10,
   "id": "6dcde770-10a9-4e6c-82e2-d82f4701a692",
   "metadata": {},
   "outputs": [],
   "source": [
    "import math"
   ]
  },
  {
   "cell_type": "markdown",
   "id": "30c757b6-3135-48d1-8b88-e81ea8a66feb",
   "metadata": {},
   "source": [
    "Importamos la libreria que descargamos anteriormente y la implementamos en el codigo como PIL haciendo referencia a sus modulos \"Image\" e \"ImageDraw\" para la generacion de una grafica en 2D y representarla como una imagen"
   ]
  },
  {
   "cell_type": "code",
   "execution_count": 4,
   "id": "87f67930-ed89-4636-88a4-a57e72864016",
   "metadata": {},
   "outputs": [],
   "source": [
    "from PIL import Image\n",
    "from PIL import ImageDraw"
   ]
  },
  {
   "cell_type": "markdown",
   "id": "581f43b4-723a-44a1-8603-78eafff926d6",
   "metadata": {},
   "source": [
    "Estipulamos los parametros necesarios para nuestra imagen ademas de indicar que se dibujara en ese archivo"
   ]
  },
  {
   "cell_type": "code",
   "execution_count": 11,
   "id": "6dccb2aa-abf7-4857-aefd-08d91c04fab3",
   "metadata": {},
   "outputs": [],
   "source": [
    "im = Image.new('RGB', (700, 700), (138, 138, 236)) \n",
    "draw = ImageDraw.Draw(im)"
   ]
  },
  {
   "cell_type": "markdown",
   "id": "a30a7308-3083-46b2-bb3c-570ccfb8e707",
   "metadata": {},
   "source": [
    "Definimos nuestras dos variables en la que ts contiene nuestro valor \"t\" que es un intervalo de numeros [0,1] y nuetros tres puntos en \"xys\" o tambien conocidos PUNTOS DE CONTROL"
   ]
  },
  {
   "cell_type": "code",
   "execution_count": 6,
   "id": "10933b55-e6ed-48f3-a0e5-20f9de141689",
   "metadata": {},
   "outputs": [],
   "source": [
    "ts = [t/100.0 for t in range(101)]\n",
    "#Puntos de control Bezier\n",
    "xys = [(200, 100), (200, 0), (100, 0), (100, 70)]"
   ]
  },
  {
   "cell_type": "markdown",
   "id": "3bac56d0-289a-4edf-9a94-7cefd8bacc48",
   "metadata": {},
   "source": [
    "## Funcion para CURVAS DE BEZIER"
   ]
  },
  {
   "cell_type": "markdown",
   "id": "c494bf70-afbe-42ec-833d-6af242545018",
   "metadata": {},
   "source": [
    "Para el siguiente codigo primero observamos nuestra funcion principal make_bezier() que nos devolvera una funcion pero tambien es aprovechada para setear una variable con la longitud de nuestra lista de puntos lo que nos da como resultado la cantidad de puntos para la creacion de la curva de bezier y su EXPRESION GENERAL para cualquier grado \"n\" ademas en la variable \"combinations\" establecemos que nuestra funcion quede en version fija para 4 puntos ya que son coeficientes para una expresion cubica extraidas del triangulo de Pascal"
   ]
  },
  {
   "cell_type": "markdown",
   "id": "116ad0fc-0b1d-4238-8443-5d00ac7d61b1",
   "metadata": {},
   "source": [
    "En nuestra funcion Bezier() tenemos la implementascion de la EXPRESION GENERAL se observa una lista vacia en el que se almacenaran cada uno de los resultados que da la multiplicacion de todo los productos a excepcion de los PUNTOS, al aplicar la expresion recursiva de la curva de Bézier de grado \"n\" en la que esta se representa como una combinación lineal punto a punto ( interpolación lineal )."
   ]
  },
  {
   "cell_type": "markdown",
   "id": "3e161e8a",
   "metadata": {},
   "source": [
    "#### Fórmula de n-ésima potencia\n",
    "$$ b(t) = \\sum_{i=0}^{n} {n \\choose i} P_i(1-t)^{n-1}t^i $$"
   ]
  },
  {
   "cell_type": "markdown",
   "id": "603935ce",
   "metadata": {},
   "source": [
    "Al tener nuestra expresion para la n-esima retomada de la formula Bernstein vamos a decir que la variable \"combinations\" = $$ {n \\choose i} $$"
   ]
  },
  {
   "cell_type": "markdown",
   "id": "a69323aa",
   "metadata": {},
   "source": [
    "tpowers = $$ t^i $$\n",
    "\n",
    "upowers = $$ (1-t)^{n-1}$$"
   ]
  },
  {
   "cell_type": "code",
   "execution_count": 7,
   "id": "76de7ed4-3e49-4dfb-8aa4-36bd0f32b4b6",
   "metadata": {},
   "outputs": [],
   "source": [
    "def make_bezier(xys):\n",
    "    #(Obtenemos la cantidad de puntos) que es igual a \"n\"\n",
    "    n = len(xys)\n",
    "    \n",
    "    #combination establece un version fija para 4 puntos\n",
    "    #Ya que son los coeficientes extraidos del triangulo de Pascal\n",
    "    combinations = (1,3,3,1)\n",
    "    def bezier(ts):\n",
    "        result = []\n",
    "        for t in ts:\n",
    "            \n",
    "            #Potencias de \"t\"\n",
    "            tpowers = (t**i for i in range(n))\n",
    "            \n",
    "            #Potencias del binomio\n",
    "            upowers = reversed([(1-t)**i for i in range(n)])\n",
    "            \n",
    "            #Multiplicamos todas las expresiones que hemos generado \n",
    "            #Para crear los coeficientes de la expresion\n",
    "            coefs = [c*a*b for c, a, b in zip(combinations, tpowers, upowers)]\n",
    "            \n",
    "            #Unimos los coneficientes con sus respectivos puntos para multiplicarlos \n",
    "            #Con esto complementarios la expresion final y los resultados son retornados\n",
    "            result.append(\n",
    "                tuple(sum([coef*p for coef, p in zip(coefs, ps)]) for ps in zip(*xys)))\n",
    "        return result\n",
    "    return bezier"
   ]
  },
  {
   "cell_type": "markdown",
   "id": "0c017541-f975-4dbb-aa12-1d162a4fe924",
   "metadata": {},
   "source": [
    "Finalmente llamamos las funcion make_bezier() con sus respectivos parametros y lo almacenamos en la variable \"bezier\" para luego llamar a su funcion interna y sus valores de retorno guardarlos en el resultado final \"points\""
   ]
  },
  {
   "cell_type": "code",
   "execution_count": 12,
   "id": "4007ef76-9dec-4951-bbf1-868e7f18dad4",
   "metadata": {},
   "outputs": [],
   "source": [
    "bezier = make_bezier(xys)\n",
    "points=bezier(ts)"
   ]
  },
  {
   "cell_type": "markdown",
   "id": "6f344096-9b33-45e4-8bd4-19ea21b75d26",
   "metadata": {},
   "source": [
    "Usamos nuestra variable \"draw\" que contiene la funcion para dibujar e indicamos que dibuje el poligono respectivo con los puntos brindados por la funcion de Bezier, guardamos y mostramos la CURVA generada"
   ]
  },
  {
   "attachments": {
    "out-2.png": {
     "image/png": "[encoded data removed]"
    }
   },
   "cell_type": "markdown",
   "id": "8acb7db0-eefd-4c2c-81c0-4b9a372bbe39",
   "metadata": {},
   "source": [
    "![out-2.png](attachment:out-2.png)"
   ]
  },
  {
   "cell_type": "markdown",
   "id": "e0d69bce",
   "metadata": {},
   "source": [
    "## CODIGO COMPLETO"
   ]
  },
  {
   "cell_type": "code",
   "execution_count": null,
   "id": "6600e960",
   "metadata": {},
   "outputs": [],
   "source": [
    "from PIL import Image\n",
    "from PIL import ImageDraw\n",
    "\n",
    "def make_bezier(xys):\n",
    "    #(Obtenemos la cantidad de puntos)\n",
    "    n = len(xys)\n",
    "    #combination establece coeficientes Binomiales\n",
    "    combinations = (1,3,3,1)\n",
    "    \n",
    "    def bezier(ts):\n",
    "        # Usamos la formula generalizada para curvas de Bezier\n",
    "        result = []\n",
    "        for t in ts:\n",
    "            tpowers = (t**i for i in range(n))\n",
    "            upowers = reversed([(1-t)**i for i in range(n)])\n",
    "            coefs = [c*a*b for c, a, b in zip(combinations, tpowers, upowers)]\n",
    "            result.append(\n",
    "                tuple(sum([coef*p for coef, p in zip(coefs, ps)]) for ps in zip(*xys)))\n",
    "        return result\n",
    "    return bezier\n",
    "\n",
    "#Clase Main\n",
    "if __name__ == '__main__':\n",
    "    im = Image.new('RGB', (700, 700), (138, 138, 236)) \n",
    "    draw = ImageDraw.Draw(im)\n",
    "    ts = [t/100.0 for t in range(101)]\n",
    "    xys = [(200, 100), (200, 0), (100, 0), (100, 70)]\n",
    "    bezier = make_bezier(xys)\n",
    "    points=bezier(ts)\n",
    "\n",
    "\n",
    "    draw.polygon(points, fill = 'red')\n",
    "    im.save('out.png')\n",
    "    im.show()"
   ]
  },
  {
   "cell_type": "markdown",
   "id": "274a6d70-6f25-40a8-a20b-7b05b8bc2f46",
   "metadata": {},
   "source": [
    "## Referencias\n",
    "\n",
    "[1]  Hass, J., Heil, C., Weir, M., Estrugo, J. and Thomas, G., n.d. Thomas' calculus. 13th ed., pp. 641\n",
    "\n",
    "[2] Burden, R., Faires, J. and Burden, A., 2016. Análisis numérico. 10th ed. México: Cengage Learning, pp.121-126.\n",
    "\n",
    "[3] Burden, R., Faires, J. and Burden, A., 2016. Análisis numérico. 10th ed. México: Cengage Learning, pp.82.\n",
    "\n",
    "[4] Burden, R., Faires, J. and Burden, A., 2016. Análisis numérico. 10th ed. México: Cengage Learning, pp.99-101.\n",
    "\n",
    "[5] Calvo, Nestor, FICH-UNL. Available: https://cimec.org.ar/foswiki/pub/Main/Cimec/ComputacionGrafica/curvas.pdf"
   ]
  },
  {
   "cell_type": "code",
   "execution_count": null,
   "id": "5c70d67a-cbb7-4854-a69f-ec34eab615a0",
   "metadata": {},
   "outputs": [],
   "source": []
  }
 ],
 "metadata": {
  "kernelspec": {
   "display_name": "Python 3",
   "language": "python",
   "name": "python3"
  },
  "language_info": {
   "codemirror_mode": {
    "name": "ipython",
    "version": 3
   },
   "file_extension": ".py",
   "mimetype": "text/x-python",
   "name": "python",
   "nbconvert_exporter": "python",
   "pygments_lexer": "ipython3",
   "version": "3.9.5"
  }
 },
 "nbformat": 4,
 "nbformat_minor": 5
}
